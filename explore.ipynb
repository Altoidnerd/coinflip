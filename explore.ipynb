{
 "cells": [
  {
   "cell_type": "code",
   "execution_count": 3,
   "id": "85a4c2d0-c34d-4f16-ade8-8dfb09ab5138",
   "metadata": {},
   "outputs": [
    {
     "ename": "AttributeError",
     "evalue": "'DataFrame' object has no attribute 'yr_season_weekday'",
     "output_type": "error",
     "traceback": [
      "\u001b[0;31m---------------------------------------------------------------------------\u001b[0m",
      "\u001b[0;31mAttributeError\u001b[0m                            Traceback (most recent call last)",
      "\u001b[0;32m/var/folders/n6/zc0mx_b953d7fmyh83yrflj40000gn/T/ipykernel_18476/1625232452.py\u001b[0m in \u001b[0;36m<module>\u001b[0;34m\u001b[0m\n\u001b[1;32m      1\u001b[0m \u001b[0;32mfrom\u001b[0m \u001b[0mcoinflip\u001b[0m\u001b[0;34m.\u001b[0m\u001b[0mclasses\u001b[0m \u001b[0;32mimport\u001b[0m \u001b[0mMappers\u001b[0m\u001b[0;34m\u001b[0m\u001b[0;34m\u001b[0m\u001b[0m\n\u001b[0;32m----> 2\u001b[0;31m \u001b[0;32mfrom\u001b[0m \u001b[0mcoinflip\u001b[0m\u001b[0;34m.\u001b[0m\u001b[0mmodeling\u001b[0m \u001b[0;32mimport\u001b[0m \u001b[0mget_dx\u001b[0m\u001b[0;34m\u001b[0m\u001b[0;34m\u001b[0m\u001b[0m\n\u001b[0m\u001b[1;32m      3\u001b[0m \u001b[0;32mfrom\u001b[0m \u001b[0mcollections\u001b[0m \u001b[0;32mimport\u001b[0m \u001b[0mCounter\u001b[0m\u001b[0;34m\u001b[0m\u001b[0;34m\u001b[0m\u001b[0m\n\u001b[1;32m      4\u001b[0m \u001b[0;32mimport\u001b[0m \u001b[0mdatetime\u001b[0m\u001b[0;34m\u001b[0m\u001b[0;34m\u001b[0m\u001b[0m\n\u001b[1;32m      5\u001b[0m \u001b[0;32mfrom\u001b[0m \u001b[0mmatplotlib\u001b[0m \u001b[0;32mimport\u001b[0m \u001b[0mrc\u001b[0m\u001b[0;34m\u001b[0m\u001b[0;34m\u001b[0m\u001b[0m\n",
      "\u001b[0;32m~/Developer/clo/coinflip/coinflip/modeling.py\u001b[0m in \u001b[0;36m<module>\u001b[0;34m\u001b[0m\n\u001b[1;32m    191\u001b[0m \u001b[0;34m\u001b[0m\u001b[0m\n\u001b[1;32m    192\u001b[0m \u001b[0;32mfor\u001b[0m \u001b[0mdep_var\u001b[0m \u001b[0;32min\u001b[0m \u001b[0;34m[\u001b[0m\u001b[0;34m'casual'\u001b[0m\u001b[0;34m,\u001b[0m\u001b[0;34m'registred'\u001b[0m\u001b[0;34m]\u001b[0m\u001b[0;34m:\u001b[0m\u001b[0;34m\u001b[0m\u001b[0;34m\u001b[0m\u001b[0m\n\u001b[0;32m--> 193\u001b[0;31m     \u001b[0mpipes\u001b[0m\u001b[0;34m[\u001b[0m\u001b[0;34m'dep_var'\u001b[0m\u001b[0;34m]\u001b[0m \u001b[0;34m=\u001b[0m \u001b[0mmain\u001b[0m\u001b[0;34m(\u001b[0m\u001b[0;34m)\u001b[0m\u001b[0;34m\u001b[0m\u001b[0;34m\u001b[0m\u001b[0m\n\u001b[0m\u001b[1;32m    194\u001b[0m \u001b[0;34m\u001b[0m\u001b[0m\n",
      "\u001b[0;32m~/Developer/clo/coinflip/coinflip/modeling.py\u001b[0m in \u001b[0;36mwrap_func\u001b[0;34m(*args, **kwargs)\u001b[0m\n\u001b[1;32m     43\u001b[0m     \u001b[0;32mdef\u001b[0m \u001b[0mwrap_func\u001b[0m\u001b[0;34m(\u001b[0m\u001b[0;34m*\u001b[0m\u001b[0margs\u001b[0m\u001b[0;34m,\u001b[0m \u001b[0;34m**\u001b[0m\u001b[0mkwargs\u001b[0m\u001b[0;34m)\u001b[0m\u001b[0;34m:\u001b[0m\u001b[0;34m\u001b[0m\u001b[0;34m\u001b[0m\u001b[0m\n\u001b[1;32m     44\u001b[0m         \u001b[0mt1\u001b[0m \u001b[0;34m=\u001b[0m \u001b[0mtime\u001b[0m\u001b[0;34m(\u001b[0m\u001b[0;34m)\u001b[0m\u001b[0;34m\u001b[0m\u001b[0;34m\u001b[0m\u001b[0m\n\u001b[0;32m---> 45\u001b[0;31m         \u001b[0mresult\u001b[0m \u001b[0;34m=\u001b[0m \u001b[0mfunc\u001b[0m\u001b[0;34m(\u001b[0m\u001b[0;34m*\u001b[0m\u001b[0margs\u001b[0m\u001b[0;34m,\u001b[0m \u001b[0;34m**\u001b[0m\u001b[0mkwargs\u001b[0m\u001b[0;34m)\u001b[0m\u001b[0;34m\u001b[0m\u001b[0;34m\u001b[0m\u001b[0m\n\u001b[0m\u001b[1;32m     46\u001b[0m         \u001b[0mt2\u001b[0m \u001b[0;34m=\u001b[0m \u001b[0mtime\u001b[0m\u001b[0;34m(\u001b[0m\u001b[0;34m)\u001b[0m\u001b[0;34m\u001b[0m\u001b[0;34m\u001b[0m\u001b[0m\n\u001b[1;32m     47\u001b[0m         \u001b[0mprint\u001b[0m\u001b[0;34m(\u001b[0m\u001b[0;34mf'Function {func.__name__!r} executed in {(t2-t1):.4f}s'\u001b[0m\u001b[0;34m)\u001b[0m\u001b[0;34m\u001b[0m\u001b[0;34m\u001b[0m\u001b[0m\n",
      "\u001b[0;32m~/Developer/clo/coinflip/coinflip/modeling.py\u001b[0m in \u001b[0;36mmain\u001b[0;34m(pipelines, dep_var, data)\u001b[0m\n\u001b[1;32m    152\u001b[0m \u001b[0;34m\u001b[0m\u001b[0m\n\u001b[1;32m    153\u001b[0m     \u001b[0;32mif\u001b[0m \u001b[0mdata\u001b[0m \u001b[0;32mis\u001b[0m \u001b[0;32mNone\u001b[0m\u001b[0;34m:\u001b[0m\u001b[0;34m\u001b[0m\u001b[0;34m\u001b[0m\u001b[0m\n\u001b[0;32m--> 154\u001b[0;31m         \u001b[0mdata\u001b[0m \u001b[0;34m=\u001b[0m \u001b[0mget_dx_new\u001b[0m\u001b[0;34m(\u001b[0m\u001b[0;34m)\u001b[0m\u001b[0;34m\u001b[0m\u001b[0;34m\u001b[0m\u001b[0m\n\u001b[0m\u001b[1;32m    155\u001b[0m \u001b[0;34m\u001b[0m\u001b[0m\n\u001b[1;32m    156\u001b[0m     \u001b[0my\u001b[0m \u001b[0;34m=\u001b[0m \u001b[0mdata\u001b[0m\u001b[0;34m[\u001b[0m\u001b[0;34m[\u001b[0m\u001b[0;34m'casual'\u001b[0m\u001b[0;34m,\u001b[0m\u001b[0;34m'registered'\u001b[0m\u001b[0;34m,\u001b[0m\u001b[0;34m'count'\u001b[0m\u001b[0;34m]\u001b[0m\u001b[0;34m]\u001b[0m\u001b[0;34m\u001b[0m\u001b[0;34m\u001b[0m\u001b[0m\n",
      "\u001b[0;32m~/Developer/clo/coinflip/coinflip/modeling.py\u001b[0m in \u001b[0;36mget_dx_new\u001b[0;34m(verbose)\u001b[0m\n\u001b[1;32m    143\u001b[0m \u001b[0;34m\u001b[0m\u001b[0m\n\u001b[1;32m    144\u001b[0m \u001b[0;32mdef\u001b[0m \u001b[0mget_dx_new\u001b[0m\u001b[0;34m(\u001b[0m\u001b[0mverbose\u001b[0m\u001b[0;34m=\u001b[0m\u001b[0;32mFalse\u001b[0m\u001b[0;34m)\u001b[0m\u001b[0;34m:\u001b[0m\u001b[0;34m\u001b[0m\u001b[0;34m\u001b[0m\u001b[0m\n\u001b[0;32m--> 145\u001b[0;31m     \u001b[0;32mreturn\u001b[0m \u001b[0mget_dx\u001b[0m\u001b[0;34m(\u001b[0m\u001b[0mverbose\u001b[0m\u001b[0;34m=\u001b[0m\u001b[0mverbose\u001b[0m\u001b[0;34m)\u001b[0m\u001b[0;34m\u001b[0m\u001b[0;34m\u001b[0m\u001b[0m\n\u001b[0m\u001b[1;32m    146\u001b[0m \u001b[0;34m\u001b[0m\u001b[0m\n\u001b[1;32m    147\u001b[0m \u001b[0;34m\u001b[0m\u001b[0m\n",
      "\u001b[0;32m~/Developer/clo/coinflip/coinflip/modeling.py\u001b[0m in \u001b[0;36mwrap_func\u001b[0;34m(*args, **kwargs)\u001b[0m\n\u001b[1;32m     43\u001b[0m     \u001b[0;32mdef\u001b[0m \u001b[0mwrap_func\u001b[0m\u001b[0;34m(\u001b[0m\u001b[0;34m*\u001b[0m\u001b[0margs\u001b[0m\u001b[0;34m,\u001b[0m \u001b[0;34m**\u001b[0m\u001b[0mkwargs\u001b[0m\u001b[0;34m)\u001b[0m\u001b[0;34m:\u001b[0m\u001b[0;34m\u001b[0m\u001b[0;34m\u001b[0m\u001b[0m\n\u001b[1;32m     44\u001b[0m         \u001b[0mt1\u001b[0m \u001b[0;34m=\u001b[0m \u001b[0mtime\u001b[0m\u001b[0;34m(\u001b[0m\u001b[0;34m)\u001b[0m\u001b[0;34m\u001b[0m\u001b[0;34m\u001b[0m\u001b[0m\n\u001b[0;32m---> 45\u001b[0;31m         \u001b[0mresult\u001b[0m \u001b[0;34m=\u001b[0m \u001b[0mfunc\u001b[0m\u001b[0;34m(\u001b[0m\u001b[0;34m*\u001b[0m\u001b[0margs\u001b[0m\u001b[0;34m,\u001b[0m \u001b[0;34m**\u001b[0m\u001b[0mkwargs\u001b[0m\u001b[0;34m)\u001b[0m\u001b[0;34m\u001b[0m\u001b[0;34m\u001b[0m\u001b[0m\n\u001b[0m\u001b[1;32m     46\u001b[0m         \u001b[0mt2\u001b[0m \u001b[0;34m=\u001b[0m \u001b[0mtime\u001b[0m\u001b[0;34m(\u001b[0m\u001b[0;34m)\u001b[0m\u001b[0;34m\u001b[0m\u001b[0;34m\u001b[0m\u001b[0m\n\u001b[1;32m     47\u001b[0m         \u001b[0mprint\u001b[0m\u001b[0;34m(\u001b[0m\u001b[0;34mf'Function {func.__name__!r} executed in {(t2-t1):.4f}s'\u001b[0m\u001b[0;34m)\u001b[0m\u001b[0;34m\u001b[0m\u001b[0;34m\u001b[0m\u001b[0m\n",
      "\u001b[0;32m~/Developer/clo/coinflip/coinflip/modeling.py\u001b[0m in \u001b[0;36mget_dx\u001b[0;34m(verbose)\u001b[0m\n\u001b[1;32m    133\u001b[0m     \u001b[0mdx\u001b[0m\u001b[0;34m[\u001b[0m\u001b[0;34m'yr_month'\u001b[0m\u001b[0;34m]\u001b[0m \u001b[0;34m=\u001b[0m \u001b[0;34m[\u001b[0m \u001b[0mstr\u001b[0m\u001b[0;34m(\u001b[0m\u001b[0mget_dt\u001b[0m\u001b[0;34m(\u001b[0m\u001b[0mx\u001b[0m\u001b[0;34m)\u001b[0m\u001b[0;34m.\u001b[0m\u001b[0myear\u001b[0m\u001b[0;34m)\u001b[0m \u001b[0;34m+\u001b[0m \u001b[0;34m','\u001b[0m\u001b[0;34m+\u001b[0m\u001b[0mstr\u001b[0m\u001b[0;34m(\u001b[0m\u001b[0mget_dt\u001b[0m\u001b[0;34m(\u001b[0m\u001b[0mx\u001b[0m\u001b[0;34m)\u001b[0m\u001b[0;34m.\u001b[0m\u001b[0mmonth\u001b[0m\u001b[0;34m)\u001b[0m \u001b[0;32mfor\u001b[0m \u001b[0mx\u001b[0m \u001b[0;32min\u001b[0m \u001b[0mdx\u001b[0m\u001b[0;34m.\u001b[0m\u001b[0mdatetime\u001b[0m \u001b[0;34m]\u001b[0m\u001b[0;34m\u001b[0m\u001b[0;34m\u001b[0m\u001b[0m\n\u001b[1;32m    134\u001b[0m     \u001b[0mdx\u001b[0m\u001b[0;34m[\u001b[0m\u001b[0;34m'yr_season'\u001b[0m\u001b[0;34m]\u001b[0m \u001b[0;34m=\u001b[0m \u001b[0;34m[\u001b[0m \u001b[0mstr\u001b[0m\u001b[0;34m(\u001b[0m\u001b[0mget_dt\u001b[0m\u001b[0;34m(\u001b[0m\u001b[0mdx\u001b[0m\u001b[0;34m.\u001b[0m\u001b[0miloc\u001b[0m\u001b[0;34m[\u001b[0m\u001b[0midx\u001b[0m\u001b[0;34m]\u001b[0m\u001b[0;34m.\u001b[0m\u001b[0mdatetime\u001b[0m\u001b[0;34m)\u001b[0m\u001b[0;34m.\u001b[0m\u001b[0myear\u001b[0m\u001b[0;34m)\u001b[0m \u001b[0;34m+\u001b[0m \u001b[0;34m','\u001b[0m\u001b[0;34m+\u001b[0m\u001b[0mstr\u001b[0m\u001b[0;34m(\u001b[0m\u001b[0mdx\u001b[0m\u001b[0;34m.\u001b[0m\u001b[0miloc\u001b[0m\u001b[0;34m[\u001b[0m\u001b[0midx\u001b[0m\u001b[0;34m]\u001b[0m\u001b[0;34m.\u001b[0m\u001b[0mseason\u001b[0m\u001b[0;34m)\u001b[0m \u001b[0;32mfor\u001b[0m \u001b[0midx\u001b[0m \u001b[0;32min\u001b[0m \u001b[0mrange\u001b[0m\u001b[0;34m(\u001b[0m\u001b[0mlen\u001b[0m\u001b[0;34m(\u001b[0m\u001b[0mdx\u001b[0m\u001b[0;34m)\u001b[0m\u001b[0;34m)\u001b[0m \u001b[0;34m]\u001b[0m\u001b[0;34m\u001b[0m\u001b[0;34m\u001b[0m\u001b[0m\n\u001b[0;32m--> 135\u001b[0;31m     \u001b[0mdx\u001b[0m\u001b[0;34m[\u001b[0m\u001b[0;34m'season_weekday'\u001b[0m\u001b[0;34m]\u001b[0m \u001b[0;34m=\u001b[0m \u001b[0;34m[\u001b[0m \u001b[0;34m','\u001b[0m\u001b[0;34m.\u001b[0m\u001b[0mjoin\u001b[0m\u001b[0;34m(\u001b[0m\u001b[0mx\u001b[0m\u001b[0;34m.\u001b[0m\u001b[0msplit\u001b[0m\u001b[0;34m(\u001b[0m\u001b[0;34m','\u001b[0m\u001b[0;34m)\u001b[0m\u001b[0;34m[\u001b[0m\u001b[0;36m1\u001b[0m\u001b[0;34m:\u001b[0m\u001b[0;34m]\u001b[0m\u001b[0;34m)\u001b[0m \u001b[0;32mfor\u001b[0m \u001b[0mx\u001b[0m \u001b[0;32min\u001b[0m \u001b[0mdx\u001b[0m\u001b[0;34m.\u001b[0m\u001b[0myr_season_weekday\u001b[0m \u001b[0;34m]\u001b[0m\u001b[0;34m\u001b[0m\u001b[0;34m\u001b[0m\u001b[0m\n\u001b[0m\u001b[1;32m    136\u001b[0m     \u001b[0;31m# 3rd degree interations\u001b[0m\u001b[0;34m\u001b[0m\u001b[0;34m\u001b[0m\u001b[0m\n\u001b[1;32m    137\u001b[0m     \u001b[0mdx\u001b[0m\u001b[0;34m[\u001b[0m\u001b[0;34m'hr_weekday_season'\u001b[0m\u001b[0;34m]\u001b[0m \u001b[0;34m=\u001b[0m  \u001b[0;34m[\u001b[0m \u001b[0mstr\u001b[0m\u001b[0;34m(\u001b[0m\u001b[0mdx\u001b[0m\u001b[0;34m.\u001b[0m\u001b[0miloc\u001b[0m\u001b[0;34m[\u001b[0m\u001b[0midx\u001b[0m\u001b[0;34m]\u001b[0m\u001b[0;34m.\u001b[0m\u001b[0mhr_weekday\u001b[0m\u001b[0;34m)\u001b[0m\u001b[0;34m+\u001b[0m\u001b[0;34m','\u001b[0m\u001b[0;34m+\u001b[0m\u001b[0mstr\u001b[0m\u001b[0;34m(\u001b[0m\u001b[0mdx\u001b[0m\u001b[0;34m.\u001b[0m\u001b[0miloc\u001b[0m\u001b[0;34m[\u001b[0m\u001b[0midx\u001b[0m\u001b[0;34m]\u001b[0m\u001b[0;34m.\u001b[0m\u001b[0mseason\u001b[0m\u001b[0;34m)\u001b[0m \u001b[0;32mfor\u001b[0m \u001b[0midx\u001b[0m \u001b[0;32min\u001b[0m \u001b[0mrange\u001b[0m\u001b[0;34m(\u001b[0m\u001b[0mlen\u001b[0m\u001b[0;34m(\u001b[0m\u001b[0mdx\u001b[0m\u001b[0;34m)\u001b[0m\u001b[0;34m)\u001b[0m\u001b[0;34m]\u001b[0m\u001b[0;34m\u001b[0m\u001b[0;34m\u001b[0m\u001b[0m\n",
      "\u001b[0;32m~/anaconda3/lib/python3.9/site-packages/pandas/core/generic.py\u001b[0m in \u001b[0;36m__getattr__\u001b[0;34m(self, name)\u001b[0m\n\u001b[1;32m   5485\u001b[0m         ):\n\u001b[1;32m   5486\u001b[0m             \u001b[0;32mreturn\u001b[0m \u001b[0mself\u001b[0m\u001b[0;34m[\u001b[0m\u001b[0mname\u001b[0m\u001b[0;34m]\u001b[0m\u001b[0;34m\u001b[0m\u001b[0;34m\u001b[0m\u001b[0m\n\u001b[0;32m-> 5487\u001b[0;31m         \u001b[0;32mreturn\u001b[0m \u001b[0mobject\u001b[0m\u001b[0;34m.\u001b[0m\u001b[0m__getattribute__\u001b[0m\u001b[0;34m(\u001b[0m\u001b[0mself\u001b[0m\u001b[0;34m,\u001b[0m \u001b[0mname\u001b[0m\u001b[0;34m)\u001b[0m\u001b[0;34m\u001b[0m\u001b[0;34m\u001b[0m\u001b[0m\n\u001b[0m\u001b[1;32m   5488\u001b[0m \u001b[0;34m\u001b[0m\u001b[0m\n\u001b[1;32m   5489\u001b[0m     \u001b[0;32mdef\u001b[0m \u001b[0m__setattr__\u001b[0m\u001b[0;34m(\u001b[0m\u001b[0mself\u001b[0m\u001b[0;34m,\u001b[0m \u001b[0mname\u001b[0m\u001b[0;34m:\u001b[0m \u001b[0mstr\u001b[0m\u001b[0;34m,\u001b[0m \u001b[0mvalue\u001b[0m\u001b[0;34m)\u001b[0m \u001b[0;34m->\u001b[0m \u001b[0;32mNone\u001b[0m\u001b[0;34m:\u001b[0m\u001b[0;34m\u001b[0m\u001b[0;34m\u001b[0m\u001b[0m\n",
      "\u001b[0;31mAttributeError\u001b[0m: 'DataFrame' object has no attribute 'yr_season_weekday'"
     ]
    }
   ],
   "source": [
    "from coinflip.classes import Mappers\n",
    "from coinflip.modeling import get_dx\n",
    "from collections import Counter\n",
    "import datetime\n",
    "from matplotlib import rc\n",
    "import matplotlib.dates as mdates\n",
    "import matplotlib.pyplot as plt\n",
    "import numpy as np\n",
    "import os\n",
    "import pandas as pd\n",
    "from pprint import pprint\n",
    "import seaborn as sns\n",
    "from scipy.constants import convert_temperature\n",
    "from sklearn.feature_extraction import DictVectorizer\n",
    "from sklearn.linear_model import LinearRegression, RidgeCV, LassoCV,  ElasticNetCV\n",
    "from sklearn.metrics import mean_absolute_error, mean_squared_error, mean_absolute_percentage_error, mean_squared_log_error\n",
    "from sklearn.model_selection import train_test_split\n",
    "from sklearn.pipeline import make_pipeline\n",
    "from sklearn.preprocessing import OrdinalEncoder, OneHotEncoder, LabelEncoder, PolynomialFeatures, Normalizer\n",
    "from sklearn.preprocessing import StandardScaler, MinMaxScaler, RobustScaler, MaxAbsScaler\n",
    "from sklearn.svm import LinearSVR\n",
    "from time import time\n",
    "import warnings\n",
    "\n",
    "\n",
    "def set_fig_size(width=18,height=10):\n",
    "    fig,ax=plt.subplots(1,1)\n",
    "    fig.set_size_inches(width,height)\n",
    "    return fig,ax\n",
    "    \n",
    "\n",
    "def set_font_size(size=18):\n",
    "    font = {'family' : 'verdana',\n",
    "            'size'   : size}\n",
    "    rc('font', **font)  \n",
    "    \n",
    "def make_big(f=18,w=18,h=10):\n",
    "    set_font_size(size=f)\n",
    "    fig, ax = set_fig_size(width=w,height=h)\n",
    "    return fig, ax\n",
    "\n",
    "def do_little_eda():\n",
    "    df = get_df()\n",
    "    make_big()\n",
    "    sns.heatmap(df.corr(), annot=True, cmap='coolwarm')\n",
    "    corr = df.corr()\n",
    "    \n",
    "    make_big()\n",
    "    sns.heatmap(corr[['atemp','temp']], annot=True, cmap='coolwarm')\n",
    "    plt.show()\n",
    "    \n",
    "    make_big()\n",
    "    sns.boxplot(x='atemp', y='temp', data=df)\n",
    "    plt.xticks(rotation=70)\n",
    "    \n",
    "    make_big()\n",
    "    sns.pairplot(df, hue='season')\n",
    "\n",
    "#\n",
    "# Timer magic decorate\n",
    "#\n",
    "def timer_func(func):\n",
    "    # This function shows the execution time of \n",
    "    # the function object passed\n",
    "    def wrap_func(*args, **kwargs):\n",
    "        t1 = time()\n",
    "        result = func(*args, **kwargs)\n",
    "        t2 = time()\n",
    "        print(f'Function {func.__name__!r} executed in {(t2-t1):.4f}s')\n",
    "        return result\n",
    "    return wrap_func\n",
    "\n",
    "#\n",
    "# Train/Test data preocessors\n",
    "#\n",
    "def get_df(drop_index=False, sort=False):\n",
    "    df = pd.read_csv('training_data.csv').drop(columns=['Unnamed: 0'])\n",
    "    if sort:\n",
    "        df = df.sort_values(by='datetime')\n",
    "    if drop_index:\n",
    "        return df.reset_index(drop=True)\n",
    "    return df\n",
    "\n",
    "\n",
    "def get_dd(drop_index=True, sort=True):\n",
    "    df = get_df(drop_index=drop_index, sort=sort).drop(columns=['atemp'])\n",
    "    return df[list(df.columns[1:])+[df.columns[0]]]\n",
    "\n",
    "\n",
    "def get_dt(dt):\n",
    "    return datetime.datetime.fromisoformat(dt)\n",
    "\n",
    "@timer_func\n",
    "def get_dx(verbose=False):\n",
    "    '''\n",
    "    Reads input file and prepares data for the pipeline.\n",
    "    '''\n",
    "    \n",
    "    def do_verbose(verbose=verbose):\n",
    "        if verbose:\n",
    "            print(dx[['datetime','year','hour','month','hr_season','yr_month','yr_season']])\n",
    "            print()\n",
    "            print('feature name,','number of disctint values')\n",
    "            print('set of distinct values')\n",
    "            print('='*80)\n",
    "            for time_var in [#'datetime',\n",
    "                             'season',\n",
    "                             'year',\n",
    "                             'hour',\n",
    "                             'month',\n",
    "                             'hr_season',\n",
    "                             'yr_month',\n",
    "                             'yr_season']:\n",
    "                print()\n",
    "                print(time_var,len(list(sorted(list(set(dx[time_var]))))))\n",
    "                print(list(sorted(list(set(dx[time_var])))))\n",
    "                    \n",
    "    low_temp_F, high_temp_F=49,78\n",
    "    dx = get_dd()\n",
    "    \n",
    "    get_datetime   = get_dt\n",
    "    weekday_mapper = Mappers.weekday_mapper\n",
    "    season_mapper  = Mappers.season_mapper\n",
    "    temp_mapper    = Mappers.temp_mapper\n",
    "    fromisoformat  = datetime.datetime.fromisoformat\n",
    "    \n",
    "    dx['tempcat'] = list(map(Mappers.temp_mapper, dx.temp))\n",
    "    dts = dx['datetime'].copy()\n",
    "    dx['weekday'] = dts.apply(func=lambda x: weekday_mapper(get_datetime(x).weekday()))\n",
    "    dx['year'] = dts.apply(func= lambda x: (get_datetime(x).year - 2011)%2011+1)\n",
    "    dx['month'] = dts.apply(func=lambda x: get_datetime(x).month )\n",
    "    dx['hour'] = [ get_dt(x).hour for x in dx.datetime ]\n",
    "    dx['season'] = dx.season.apply(func=lambda x: Mappers.season_mapper(x))\n",
    "    dx['temp_cat'] = dx.temp.apply(func=lambda x : Mappers.temp_mapper(temp=x,\n",
    "                                                                       low=convert_temperature(low_temp_F,'f','c'),\n",
    "                                                                       high=convert_temperature(high_temp_F,'f','c')))\n",
    "    # 2nd degree interactions\n",
    "    dx['hr_workingday'] = [ str(dx.iloc[idx].hour) + ','+str(dx.iloc[idx].workingday) for idx in range(len(dx))]\n",
    "    dx['hr_tempcat'] = [ str(dx.iloc[idx].hour) + ','+str(dx.iloc[idx].tempcat) for idx in range(len(dx))]                                                                         \n",
    "    dx['hr_season'] = [ str(dx.iloc[idx].hour) + ','+str(dx.iloc[idx].season) for idx in range(len(dx))]\n",
    "    dx['hr_month'] = [ str(dx.iloc[idx].hour) + ',' + str(dx.iloc[idx].month) for idx in range(len(dx))]\n",
    "    dx['hr_weekday'] = [ str(dx.iloc[idx].hour) + ',' +str(dx.iloc[idx].weekday) for idx in range(len(dx))]\n",
    "    dx['yr_month'] = [ str(get_dt(x).year) + ','+str(get_dt(x).month) for x in dx.datetime ]\n",
    "    dx['yr_season'] = [ str(get_dt(dx.iloc[idx].datetime).year) + ','+str(dx.iloc[idx].season) for idx in range(len(dx)) ]\n",
    "    dx['season_weekday'] = [ ','.join(x.split(',')[1:]) for x in [ row.yr_season+','+str(row.weekday) for idx, row in dx.iterrows() ] ]\n",
    "    dx['season_weekday2'] = [ str(row.season)+','+str(row.weekday) for idx, row in dx.iterrows() ]\n",
    "    assert(all(dx['season_weekday'].values==dx['season_weekday2'].values))\n",
    "    # 3rd degree interations\n",
    "    dx['hr_weekday_season'] =  [ str(dx.iloc[idx].hr_weekday)+','+str(dx.iloc[idx].season) for idx in range(len(dx))]\n",
    "    dx['hr_workingday_season'] = [ str(dx.iloc[idx].hr_workingday)+','+str(dx.iloc[idx].season) for idx in range(len(dx)) ]\n",
    "    dx['yr_season_weekday']= [ row.yr_season+','+str(row.weekday) for idx, row in dx.iterrows() ]\n",
    "    dx['season_weekday'] = [ ','.join(x.split(',')[1:]) for x in dx.yr_season_weekday ]\n",
    "    # masive 4th order vairbale\n",
    "    dx['yr_season_weekday_hr'] = [ row.yr_season_weekday+','+str(row.hour) for idx,row in dx.iterrows() ]\n",
    "    return dx.reset_index(drop=True)\n",
    "    \n",
    "\n",
    "models = {\n",
    "    'ridge': RidgeCV,\n",
    "    # 'elasticnet': ElasticNetCV,\n",
    "    'lin svm': LinearSVR,\n",
    "}\n",
    "\n",
    "\n",
    "@timer_func\n",
    "def main(pipelines=None,\n",
    "         dep_var='casual',\n",
    "         data=None):\n",
    "    \n",
    "    dm = pd.FataFrame()\n",
    "    \n",
    "    if data is None:\n",
    "        data = get_dx_new()\n",
    "    \n",
    "    y = data[['casual','registered','count']]\n",
    "    data = data.drop(columns=list(y.columns))\n",
    "    y = y[dep_var]\n",
    "    X = pd.get_dummies(data)\n",
    "    \n",
    "    if pipelines is None:\n",
    "        pipelines=dict()\n",
    "\n",
    "    fig, ax = make_big()\n",
    "    for modelname in models.keys():\n",
    "        label = modelname+','+dep_var\n",
    "        model = models[modelname]()\n",
    "        pipeline = make_pipeline(MinMaxScaler(), model)\n",
    "        \n",
    "        X_train, X_test, y_train, y_true = train_test_split(X, y, test_size=0.2, random_state=42, shuffle=False)\n",
    "        pipeline.fit(X_train, y_train)\n",
    "        y_predict = pipeline.predict(X_test)\n",
    "\n",
    "        maxx = max(max(y_true),max(y_true))\n",
    "        pipeline.maxx = maxx\n",
    "        \n",
    "        pipelines[label] = pipeline\n",
    "        this_output = {'label': label,\n",
    "                       'modelname': modelname,\n",
    "                       'model': model,\n",
    "                       'dep_var': dep_var,\n",
    "                       'strmodel': str(model),\n",
    "                       'coefs': coefs,\n",
    "                       'mean_absolute_error': float(e1),\n",
    "                       'mean_absolute_percentage_error': float(e2),\n",
    "                       'mean_squared_error': float(e3),\n",
    "                       'mean_squared_log_error': float(e4),\n",
    "                       'y_true': y_true,\n",
    "                       'y_pred': y_pred,\n",
    "                       'error': ''}\n",
    "        plt.scatter(y_true,y_predict, label=label)\n",
    "\n",
    "    plt.plot(range(maxx),range(maxx), color='k',linewidth=3, label='y_true=y_pred')\n",
    "    plt.title(f'Results')\n",
    "    plt.xlabel('y_true')\n",
    "    plt.ylabel('y_predict')\n",
    "    plt.legend()\n",
    "    plt.show()\n",
    "\n",
    "    return pipelines\n",
    "\n",
    "pipes = dict()\n",
    "for dep_var in ['casual','registred']:\n",
    "    # pipes['dep_var'] = main()\n",
    "    print()\n",
    "    \n"
   ]
  },
  {
   "cell_type": "code",
   "execution_count": null,
   "id": "c4d01142-0edf-459c-a4e8-3b7d58f23843",
   "metadata": {},
   "outputs": [],
   "source": []
  },
  {
   "cell_type": "code",
   "execution_count": null,
   "id": "c34bdbd5-cc96-4033-8442-33089c4d9e37",
   "metadata": {},
   "outputs": [],
   "source": []
  },
  {
   "cell_type": "code",
   "execution_count": null,
   "id": "1a82720d-e55c-41b8-ba42-b2b6014ca1c7",
   "metadata": {},
   "outputs": [],
   "source": []
  },
  {
   "cell_type": "code",
   "execution_count": 11,
   "id": "5d41f419-2df7-4ee0-82d4-2b2d1967f003",
   "metadata": {},
   "outputs": [
    {
     "name": "stdout",
     "output_type": "stream",
     "text": [
      "from copy import deepcopy\n",
      "from dataclasses import dataclass\n",
      "from sklearn.linear_model import LinearRegression, RidgeCV, LassoCV, ElasticNetCV\n",
      "from sklearn.preprocessing import OrdinalEncoder, OneHotEncoder, LabelEncoder\n",
      "from sklearn.preprocessing import PolynomialFeatures, Normalizer\n",
      "from sklearn.preprocessing import StandardScaler, MinMaxScaler, RobustScaler, MaxAbsScaler\n",
      "from sklearn.svm import SVR, LinearSVR\n",
      "import datetime\n",
      "import matplotlib.pyplot as plt\n",
      "import numpy as np\n"
     ]
    }
   ],
   "source": [
    "s='''\n",
    "from copy import deepcopy\n",
    "from dataclasses import dataclass\n",
    "import numpy as np\n",
    "import matplotlib.pyplot as plt\n",
    "import datetime\n",
    "from sklearn.linear_model import LinearRegression, RidgeCV, LassoCV, ElasticNetCV\n",
    "from sklearn.svm import SVR, LinearSVR\n",
    "from sklearn.preprocessing import StandardScaler, MinMaxScaler, RobustScaler, MaxAbsScaler\n",
    "from sklearn.preprocessing import OrdinalEncoder, OneHotEncoder, LabelEncoder\n",
    "from sklearn.preprocessing import PolynomialFeatures, Normalizer\n",
    "'''.split('\\n')\n",
    "print('\\n'.join(list(sorted(s[1:-1]))))"
   ]
  },
  {
   "cell_type": "code",
   "execution_count": null,
   "id": "14ec08b0-1c1b-474b-84bc-6bf05720753c",
   "metadata": {},
   "outputs": [],
   "source": []
  },
  {
   "cell_type": "code",
   "execution_count": null,
   "id": "1ff83d45-1d29-4e8b-ae9f-ea1e243d7826",
   "metadata": {},
   "outputs": [],
   "source": [
    "from coinflip.classes import Mappers\n",
    "from sklearn.preprocessing import LabelBinarizer\n",
    "\n",
    "LabelBinarizer?\n",
    "# Mappers.encoders()"
   ]
  },
  {
   "cell_type": "code",
   "execution_count": 21,
   "id": "71c4889a-fbab-4bfd-bd05-6f464324f6b8",
   "metadata": {},
   "outputs": [
    {
     "data": {
      "text/plain": [
       "Pipeline(steps=[('minmaxscaler', MinMaxScaler()),\n",
       "                ('ridgecv', RidgeCV(alphas=array([ 0.1,  1. , 10. ])))])"
      ]
     },
     "execution_count": 21,
     "metadata": {},
     "output_type": "execute_result"
    }
   ],
   "source": [
    "pipes['ridge,casual']"
   ]
  },
  {
   "cell_type": "code",
   "execution_count": 8,
   "id": "04df630d-58c9-4ab6-b875-190e0f727355",
   "metadata": {},
   "outputs": [],
   "source": [
    "# preprocessors\n",
    "def get_vectorized(data,\n",
    "                   sparse=False,\n",
    "                   filter_data=False):\n",
    "    if filter_data:\n",
    "        data = data[filter_data]\n",
    "        \n",
    "    v = DictVectorizer(sparse=sparse)\n",
    "    return v, v.fit_transform(data.to_dict('records'))"
   ]
  },
  {
   "cell_type": "code",
   "execution_count": 14,
   "id": "3f332c9c-c63c-44d1-87d9-44ff2168e33c",
   "metadata": {},
   "outputs": [
    {
     "name": "stdout",
     "output_type": "stream",
     "text": [
      "Processing: training_data.csv kind: train filename: training_data.csv\n",
      "Function 'get_dx_new' executed in 9.4350s\n"
     ]
    },
    {
     "data": {
      "text/plain": [
       "(8708, 3054)"
      ]
     },
     "execution_count": 14,
     "metadata": {},
     "output_type": "execute_result"
    }
   ],
   "source": [
    "get_x_train().shape"
   ]
  },
  {
   "cell_type": "code",
   "execution_count": 13,
   "id": "d5a52eef-5454-4e39-859a-a589e52788cf",
   "metadata": {},
   "outputs": [
    {
     "data": {
      "text/plain": [
       "(8708, 11772)"
      ]
     },
     "execution_count": 13,
     "metadata": {},
     "output_type": "execute_result"
    }
   ],
   "source": [
    "get_vectorized(dx)[1].shape"
   ]
  },
  {
   "cell_type": "code",
   "execution_count": 7,
   "id": "7cd92ccc-4d2e-4e03-a93a-7aef829ba2c8",
   "metadata": {},
   "outputs": [
    {
     "name": "stdout",
     "output_type": "stream",
     "text": [
      "Processing: training_data.csv kind: train filename: training_data.csv\n",
      "Function 'get_dx_new' executed in 9.4305s\n",
      "Processing: training_data.csv kind: train filename: training_data.csv\n",
      "Function 'get_dx_new' executed in 9.4103s\n",
      "(8708, 3054)\n",
      "(8708, 3)\n",
      "Processing: test_data.csv kind: test filename: test_data.csv\n",
      "Function 'get_dx_new' executed in 9.4648s\n"
     ]
    },
    {
     "ename": "ValueError",
     "evalue": "too many values to unpack (expected 2)",
     "output_type": "error",
     "traceback": [
      "\u001b[0;31m---------------------------------------------------------------------------\u001b[0m",
      "\u001b[0;31mValueError\u001b[0m                                Traceback (most recent call last)",
      "\u001b[0;32m/var/folders/n6/zc0mx_b953d7fmyh83yrflj40000gn/T/ipykernel_8620/1760599969.py\u001b[0m in \u001b[0;36m<module>\u001b[0;34m\u001b[0m\n\u001b[0;32m----> 1\u001b[0;31m \u001b[0mX_train\u001b[0m\u001b[0;34m,\u001b[0m \u001b[0mX_test\u001b[0m\u001b[0;34m,\u001b[0m \u001b[0my_train\u001b[0m\u001b[0;34m,\u001b[0m \u001b[0my_test\u001b[0m \u001b[0;34m=\u001b[0m \u001b[0mget_train_test_split\u001b[0m\u001b[0;34m(\u001b[0m\u001b[0;34m)\u001b[0m\u001b[0;34m\u001b[0m\u001b[0;34m\u001b[0m\u001b[0m\n\u001b[0m",
      "\u001b[0;32m/var/folders/n6/zc0mx_b953d7fmyh83yrflj40000gn/T/ipykernel_8620/3356666240.py\u001b[0m in \u001b[0;36mget_train_test_split\u001b[0;34m(minmax_y, shuffle)\u001b[0m\n\u001b[1;32m    366\u001b[0m     \u001b[0mprint\u001b[0m\u001b[0;34m(\u001b[0m\u001b[0mY_TRAIN\u001b[0m\u001b[0;34m.\u001b[0m\u001b[0mshape\u001b[0m\u001b[0;34m)\u001b[0m\u001b[0;34m\u001b[0m\u001b[0;34m\u001b[0m\u001b[0m\n\u001b[1;32m    367\u001b[0m \u001b[0;34m\u001b[0m\u001b[0m\n\u001b[0;32m--> 368\u001b[0;31m     \u001b[0mX_TEST\u001b[0m \u001b[0;34m=\u001b[0m \u001b[0mget_x_test\u001b[0m\u001b[0;34m(\u001b[0m\u001b[0;34m)\u001b[0m\u001b[0;34m\u001b[0m\u001b[0;34m\u001b[0m\u001b[0m\n\u001b[0m\u001b[1;32m    369\u001b[0m     \u001b[0mprint\u001b[0m\u001b[0;34m(\u001b[0m\u001b[0mX_TEST\u001b[0m\u001b[0;34m.\u001b[0m\u001b[0mshape\u001b[0m\u001b[0;34m)\u001b[0m\u001b[0;34m\u001b[0m\u001b[0;34m\u001b[0m\u001b[0m\n\u001b[1;32m    370\u001b[0m \u001b[0;34m\u001b[0m\u001b[0m\n",
      "\u001b[0;32m/var/folders/n6/zc0mx_b953d7fmyh83yrflj40000gn/T/ipykernel_8620/3356666240.py\u001b[0m in \u001b[0;36mget_x_test\u001b[0;34m(infile)\u001b[0m\n\u001b[1;32m    342\u001b[0m \u001b[0;34m\u001b[0m\u001b[0m\n\u001b[1;32m    343\u001b[0m \u001b[0;32mdef\u001b[0m \u001b[0mget_x_test\u001b[0m\u001b[0;34m(\u001b[0m\u001b[0minfile\u001b[0m\u001b[0;34m=\u001b[0m\u001b[0;34m'test_data.csv'\u001b[0m\u001b[0;34m)\u001b[0m\u001b[0;34m:\u001b[0m\u001b[0;34m\u001b[0m\u001b[0;34m\u001b[0m\u001b[0m\n\u001b[0;32m--> 344\u001b[0;31m     test_xcat, test_xcont = process_input('test_data.csv',\n\u001b[0m\u001b[1;32m    345\u001b[0m                                       kind='test')\n\u001b[1;32m    346\u001b[0m     \u001b[0mvectorizer\u001b[0m\u001b[0;34m,\u001b[0m\u001b[0mxvectorized\u001b[0m \u001b[0;34m=\u001b[0m \u001b[0mget_vectorized\u001b[0m\u001b[0;34m(\u001b[0m\u001b[0mtest_xcat\u001b[0m\u001b[0;34m)\u001b[0m\u001b[0;34m\u001b[0m\u001b[0;34m\u001b[0m\u001b[0m\n",
      "\u001b[0;31mValueError\u001b[0m: too many values to unpack (expected 2)"
     ]
    }
   ],
   "source": [
    "X_train, X_test, y_train, y_test = get_train_test_split()"
   ]
  },
  {
   "cell_type": "code",
   "execution_count": 5,
   "id": "1e8781d1-34f2-4871-b9fc-8f3d86bc2f32",
   "metadata": {},
   "outputs": [
    {
     "name": "stdout",
     "output_type": "stream",
     "text": [
      "Function 'get_dx_new' executed in 9.4861s\n"
     ]
    }
   ],
   "source": [
    "dx = get_dx_new()\n",
    "dy = dx[['casual','registered','count']]\n",
    "dd = dx.drop(columns=list(dy.columns))\n",
    "y = dy['casual']\n",
    "X = pd.get_dummies(dd)"
   ]
  },
  {
   "cell_type": "code",
   "execution_count": 6,
   "id": "25464e71-a7ab-4945-a5c2-3ac721461189",
   "metadata": {},
   "outputs": [
    {
     "data": {
      "text/plain": [
       "(8708, 11769)"
      ]
     },
     "execution_count": 6,
     "metadata": {},
     "output_type": "execute_result"
    }
   ],
   "source": [
    "X.shape"
   ]
  },
  {
   "cell_type": "code",
   "execution_count": null,
   "id": "b5b87141-6bca-4f17-a11c-8d2bd9eba605",
   "metadata": {},
   "outputs": [],
   "source": []
  },
  {
   "cell_type": "code",
   "execution_count": null,
   "id": "c858ad48-e509-4110-b541-d53625142cb5",
   "metadata": {},
   "outputs": [],
   "source": []
  },
  {
   "cell_type": "code",
   "execution_count": null,
   "id": "fc4715c2-c0cf-4809-9e05-f8ecf0c098fe",
   "metadata": {},
   "outputs": [],
   "source": []
  },
  {
   "cell_type": "code",
   "execution_count": 18,
   "id": "6df94ebd-0f5a-44cd-b8f8-9325f4c5c182",
   "metadata": {},
   "outputs": [
    {
     "data": {
      "image/png": "[encoded data removed]",
      "text/plain": [
       "<Figure size 1296x720 with 1 Axes>"
      ]
     },
     "metadata": {
      "needs_background": "light"
     },
     "output_type": "display_data"
    },
    {
     "name": "stdout",
     "output_type": "stream",
     "text": [
      "Function 'main' executed in 73.5526s\n"
     ]
    }
   ],
   "source": [
    "from sklearn.preprocessing import StandardScaler, MinMaxScaler, RobustScaler, MaxAbsScaler\n",
    "from sklearn.preprocessing import  OrdinalEncoder, OneHotEncoder, LabelEncoder, PolynomialFeatures, Normalizer\n",
    "from sklearn.linear_model import RidgeCV, ElasticNetCV\n",
    "from sklearn.svm import LinearSVR\n",
    "from sklearn.model_selection import train_test_split\n",
    "from sklearn.pipeline import make_pipeline\n",
    "\n",
    "\n",
    "models = {\n",
    "    'ridge': RidgeCV,\n",
    "    # 'elasticnet': ElasticNetCV,\n",
    "    'lin svm': LinearSVR,\n",
    "}\n",
    "\n",
    "\n",
    "@timer_func\n",
    "def main(pipelines=None):\n",
    "    \n",
    "    if pipelines is None:\n",
    "        pipelines=dict()\n",
    "    fig, ax = make_big()\n",
    "    \n",
    "    for dep_var in ['casual', 'registered']:\n",
    "        for modelname in models.keys():  \n",
    "            label = modelname+','+dep_var\n",
    "            model = models[modelname]()\n",
    "            pipeline = make_pipeline(MinMaxScaler(), model)\n",
    "            X_train, X_test, y_train, y_true = train_test_split(X, y, test_size=0.2, random_state=42, shuffle=False)\n",
    "            pipeline.fit(X_train, y_train)\n",
    "            y_predict = pipeline.predict(X_test)\n",
    "            \n",
    "            maxx = max(max(y_true),max(y_true))\n",
    "            pipeline.maxx = maxx\n",
    "            pipelines[label] = pipeline\n",
    "            plt.scatter(y_true,y_predict, label=label)\n",
    "\n",
    "    plt.plot(range(maxx),range(maxx), color='k',linewidth=3, label='y_true=y_pred')\n",
    "    plt.title(f'Results')\n",
    "    plt.xlabel('y_true')\n",
    "    plt.ylabel('y_predict')\n",
    "    plt.legend()\n",
    "    plt.show()\n",
    "\n",
    "    return pipelines\n",
    "\n",
    "    \n",
    "pipes = main()"
   ]
  },
  {
   "cell_type": "code",
   "execution_count": null,
   "id": "c90b354e-b671-4b71-bb1f-0837ec34252e",
   "metadata": {},
   "outputs": [],
   "source": []
  },
  {
   "cell_type": "code",
   "execution_count": null,
   "id": "e6df957d-3300-4719-95e0-d5a266f5ceea",
   "metadata": {},
   "outputs": [],
   "source": []
  },
  {
   "cell_type": "code",
   "execution_count": null,
   "id": "25d48401-4202-43c6-945d-48627d692120",
   "metadata": {},
   "outputs": [],
   "source": []
  },
  {
   "cell_type": "code",
   "execution_count": null,
   "id": "c810dc53-4b73-4e73-bf88-81b29957d621",
   "metadata": {},
   "outputs": [],
   "source": []
  },
  {
   "cell_type": "code",
   "execution_count": null,
   "id": "63d572d9-967b-4b0e-afdd-642001673aa9",
   "metadata": {},
   "outputs": [],
   "source": []
  },
  {
   "cell_type": "code",
   "execution_count": null,
   "id": "c34f4df1-3e02-4968-93bb-3bd132ca309d",
   "metadata": {},
   "outputs": [],
   "source": []
  },
  {
   "cell_type": "code",
   "execution_count": null,
   "id": "8fdcbd79-5fe5-40b8-bed1-df58a59bdeeb",
   "metadata": {},
   "outputs": [],
   "source": [
    "from sklearn.preprocessing import OrdinalEncoder\n",
    "from sklearn.decomposition import PCA\n",
    "\n",
    " \n",
    "class OrdinalEncoderFactory:\n",
    "    def __init__(self, data):\n",
    "        self.encoder = OrdinalEncoder()\n",
    "        self.data = data\n",
    "        self.transformed_data = self.encoder.fit_transform(self.data)\n",
    "        self.columns = data.columns\n",
    "        \n",
    "class OneHotEncoderFactory:\n",
    "    def __init__(self, data):\n",
    "        self.encoder = OneHotEncoder()\n",
    "        self.data = data\n",
    "        self.transformed_data = self.encoder.fit_transform(self.data)\n",
    "        self.columns\n",
    "        \n",
    "class PCAFractory(PCA):\n",
    "    \n",
    "    def __init__(self, \n",
    "                 n_components=3, \n",
    "                 data=None,\n",
    "                 encoder=OrdinalEncoder()):\n",
    "        super().__init__(n_components=n_components)\n",
    "        self.data = data\n",
    "        self.n_components = n_components\n",
    "        self.pca = PCA(n_components=self.n_components)\n",
    "        self.encoder = encoder\n",
    "        self.encoded_data = self.encoder.fit_transform(self.data)\n",
    "        self.transformed_data = self.pca.fit_transform(self.encoded_data)\n",
    "        \n",
    "\n",
    "    def scatter_components(self, comp1=0, comp2=1):\n",
    "        plt.scatter(transformed_data[:, comp1], transformed_data[:, comp2])\n",
    "        plt.xlabel(f\"Principal Component {comp1}\")\n",
    "        plt.ylabel(f\"Principal Component {comp2}\")\n",
    "        plt.show()\n",
    "\n",
    "    def biplot(self):\n",
    "        # Create a biplot\n",
    "        def draw_vector(v0, v1, ax=None):\n",
    "            ax = ax or plt.gca()\n",
    "            arrowprops=dict(arrowstyle='->',\n",
    "                            linewidth=2,\n",
    "                            shrinkA=0, shrinkB=0)\n",
    "            ax.annotate('', v1, v0, arrowprops=arrowprops)\n",
    "\n",
    "        # plot data\n",
    "        plt.scatter(transformed_data[:, 0], transformed_data[:, 1], alpha=0.2)\n",
    "        for length, vector in zip(pca.explained_variance_ratio_, pca.components_):\n",
    "            v = vector * 3 * np.sqrt(length)\n",
    "            draw_vector(pca.mean_, pca.mean_ + v)\n",
    "        plt.axis('equal')\n",
    "    \n",
    "\n",
    "# ## from sklearn.decomposition import PCA\n",
    "# from sklearn.preprocessing import OrdinalEncoder, OneHotEncoder\n",
    "\n",
    "\n",
    "# pca = PCA(n_components=3)\n",
    "# data = dx[['hour','temp','humidity']].to_numpy()\n",
    "# transformed_data = pca.fit_transform(data)\n",
    "# import matplotlib.pyplot as plt\n",
    "\n",
    "# # Create a scatter plot of the first two principal components\n",
    "# plt.scatter(transformed_data[:, 0], transformed_data[:, 1])\n",
    "# plt.xlabel(\"First Principal Component\")\n",
    "# plt.ylabel(\"Second Principal Component\")\n",
    "# plt.show() \n",
    "        \n",
    "# oc=OrdinalEncoder()\n",
    "# data = dx[['hour','hr_weekday', 'hr_weekday_season']]\n",
    "# cols = data.columns\n",
    "\n",
    "\n",
    "# transformed_data = oc.fit_transform(dx[['hour','hr_weekday', 'hr_weekday_season']])\n",
    "# data.to_numpy()\n",
    "\n"
   ]
  },
  {
   "cell_type": "code",
   "execution_count": null,
   "id": "11aef48b-d00a-46a0-a488-eb8165d97411",
   "metadata": {},
   "outputs": [],
   "source": []
  },
  {
   "cell_type": "code",
   "execution_count": null,
   "id": "e892070c-6b29-4247-a455-ef99b0dce9c4",
   "metadata": {},
   "outputs": [],
   "source": []
  },
  {
   "cell_type": "code",
   "execution_count": null,
   "id": "88d66476-1d92-42c2-a841-7f6585f8f340",
   "metadata": {},
   "outputs": [],
   "source": []
  },
  {
   "cell_type": "code",
   "execution_count": null,
   "id": "17cb8f01-29c9-4f14-9605-8ee176ed63c2",
   "metadata": {},
   "outputs": [],
   "source": []
  },
  {
   "cell_type": "code",
   "execution_count": null,
   "id": "b2220cd5-1f63-4a2e-84b2-275d74bb75ed",
   "metadata": {},
   "outputs": [],
   "source": []
  },
  {
   "cell_type": "code",
   "execution_count": null,
   "id": "94de7e78-8651-41f7-9cf1-dc0dc64d440f",
   "metadata": {},
   "outputs": [],
   "source": []
  },
  {
   "cell_type": "code",
   "execution_count": null,
   "id": "e1067add-e10c-4a75-a39c-821d8dd2ccf0",
   "metadata": {},
   "outputs": [],
   "source": []
  },
  {
   "cell_type": "code",
   "execution_count": null,
   "id": "0318d5c2-6a5f-4b00-9feb-6c79abe5fe72",
   "metadata": {},
   "outputs": [],
   "source": []
  },
  {
   "cell_type": "code",
   "execution_count": null,
   "id": "39afcb41-20eb-49ce-85fb-f12c6094832b",
   "metadata": {},
   "outputs": [],
   "source": [
    "\n",
    "\n",
    "# class PCAresult(indata):\n",
    "#     oc = OrdinalEncoder()\n",
    "#     cols = indata.columns\n",
    "    \n"
   ]
  },
  {
   "cell_type": "code",
   "execution_count": null,
   "id": "2fb318fa-2ff2-4a12-9951-2a9095bd8a55",
   "metadata": {},
   "outputs": [],
   "source": []
  },
  {
   "cell_type": "code",
   "execution_count": null,
   "id": "54fbb00b-1902-45d4-90a0-420cd9d2e886",
   "metadata": {},
   "outputs": [],
   "source": []
  },
  {
   "cell_type": "code",
   "execution_count": 700,
   "id": "32cd32b5-5c5d-4c9a-8418-c8b217dda480",
   "metadata": {},
   "outputs": [],
   "source": [
    "# gen_poly_interaction('hour','weekday')"
   ]
  },
  {
   "cell_type": "code",
   "execution_count": null,
   "id": "1747ecbe-5019-437d-af60-22126333a5aa",
   "metadata": {},
   "outputs": [],
   "source": [
    "# old = get_dx_old()\n",
    "# new = get_dx_new()\n",
    "\n",
    "# for col in old.columns:\n",
    "#     not(col in new.columns) and print(f'Missing column \"{col}\" in new.columns.')\n",
    "#     not(all(new[col] == old[col])) and print(f'Column \"{col}\" has some different values in old, new')\n",
    "    "
   ]
  },
  {
   "cell_type": "code",
   "execution_count": null,
   "id": "337eef82-8d32-4d1d-ac50-d882852a666c",
   "metadata": {},
   "outputs": [],
   "source": [
    "# all(new['hr_tempcat_'] == new['hr_tempcat'])"
   ]
  },
  {
   "cell_type": "code",
   "execution_count": 679,
   "id": "d2e993b0-bd36-4c9d-853e-9e47828868a8",
   "metadata": {},
   "outputs": [],
   "source": [
    "# old['year'].values[:100]"
   ]
  },
  {
   "cell_type": "code",
   "execution_count": null,
   "id": "04435ada-8cf3-41b3-804a-675674b7adc0",
   "metadata": {},
   "outputs": [],
   "source": [
    "# old9,new9 = old.iloc[9],new.iloc[9]\n",
    "# #\n",
    "\n",
    "# # new9[list(old.columns)] == old9\n",
    "\n",
    "# for col in old.columns:\n",
    "#     print(col,new9[col], old9[col])\n",
    "    \n",
    "# dict(new9)"
   ]
  },
  {
   "cell_type": "code",
   "execution_count": null,
   "id": "b23fde51-215f-469a-8a97-70848cf1c799",
   "metadata": {
    "tags": []
   },
   "outputs": [],
   "source": [
    "# for i in range(len(old)):\n",
    "#     o = int(old.hour.values[i])\n",
    "#     n = int(new.hour.values[i])\n",
    "#     o - n and print(i, o, n, o - n)\n"
   ]
  },
  {
   "cell_type": "code",
   "execution_count": null,
   "id": "4d15e27b-c9b8-44ee-9f03-50db35c527b8",
   "metadata": {},
   "outputs": [],
   "source": [
    "# def f(*args):\n",
    "#     return tuple(args)\n",
    "\n",
    "\n",
    "# f(1,2,3,99)[-1]"
   ]
  },
  {
   "cell_type": "code",
   "execution_count": null,
   "id": "06bd63e6-a9b1-454d-ac94-71c3c23fa221",
   "metadata": {},
   "outputs": [],
   "source": [
    "# class Singleton:\n",
    "#     _instance = None\n",
    "#     def __new__(cls):\n",
    "#         if not cls._instance:\n",
    "#             cls._instance = super().__new__(cls)\n",
    "#         return cls._instance\n",
    "#     @classmethod\n",
    "#     def get_instance(cls):\n",
    "#         return cls()\n"
   ]
  },
  {
   "cell_type": "code",
   "execution_count": null,
   "id": "5de52384-498b-4b4c-810d-40fd045a7b50",
   "metadata": {},
   "outputs": [],
   "source": []
  },
  {
   "cell_type": "code",
   "execution_count": 542,
   "id": "d8eb3c42-dcd3-44f9-ba80-f50bb73b7feb",
   "metadata": {},
   "outputs": [],
   "source": []
  },
  {
   "cell_type": "code",
   "execution_count": null,
   "id": "339a6f86-bf5a-4191-9a7a-b6832d2ea89f",
   "metadata": {},
   "outputs": [],
   "source": []
  },
  {
   "cell_type": "code",
   "execution_count": 546,
   "id": "49165232-e7e7-4307-867c-0fb3e8deee55",
   "metadata": {},
   "outputs": [
    {
     "data": {
      "text/plain": [
       "4"
      ]
     },
     "execution_count": 546,
     "metadata": {},
     "output_type": "execute_result"
    }
   ],
   "source": []
  },
  {
   "cell_type": "code",
   "execution_count": 318,
   "id": "d2d92359-8fec-49a7-bd72-84e40a6be217",
   "metadata": {},
   "outputs": [],
   "source": []
  },
  {
   "cell_type": "code",
   "execution_count": 147,
   "id": "011161bf-5f6f-4e64-b32e-149ab33981d0",
   "metadata": {},
   "outputs": [],
   "source": []
  },
  {
   "cell_type": "code",
   "execution_count": 547,
   "id": "ba94fe26-4f26-4752-a37e-85c6c38904ec",
   "metadata": {},
   "outputs": [],
   "source": []
  },
  {
   "cell_type": "code",
   "execution_count": null,
   "id": "4f3192fb-2366-4985-a314-0d76229a337f",
   "metadata": {},
   "outputs": [],
   "source": [
    "# MyClass.InitCounter"
   ]
  },
  {
   "cell_type": "code",
   "execution_count": null,
   "id": "682c0da4-43d7-49fd-bec7-bd51ff5cdf3b",
   "metadata": {},
   "outputs": [],
   "source": []
  },
  {
   "cell_type": "code",
   "execution_count": null,
   "id": "c451c755-4418-4ac1-93ec-655e36d948e3",
   "metadata": {},
   "outputs": [],
   "source": []
  },
  {
   "cell_type": "code",
   "execution_count": null,
   "id": "b0b05320-0c54-417d-8cef-af39a1109d71",
   "metadata": {},
   "outputs": [],
   "source": []
  },
  {
   "cell_type": "code",
   "execution_count": null,
   "id": "e26b2bdf-cbed-42c2-9703-d8f7732e7d6a",
   "metadata": {},
   "outputs": [],
   "source": []
  },
  {
   "cell_type": "code",
   "execution_count": null,
   "id": "3ff3030b-b168-42da-97b3-e831b35ef4e5",
   "metadata": {},
   "outputs": [],
   "source": []
  },
  {
   "cell_type": "code",
   "execution_count": null,
   "id": "b5c6fec8-f30d-4651-abae-6962087bf1bd",
   "metadata": {},
   "outputs": [],
   "source": []
  },
  {
   "cell_type": "code",
   "execution_count": null,
   "id": "32573243-a504-4593-bbaf-71bc65fa608f",
   "metadata": {},
   "outputs": [],
   "source": []
  }
 ],
 "metadata": {
  "kernelspec": {
   "display_name": "Python 3 (ipykernel)",
   "language": "python",
   "name": "python3"
  },
  "language_info": {
   "codemirror_mode": {
    "name": "ipython",
    "version": 3
   },
   "file_extension": ".py",
   "mimetype": "text/x-python",
   "name": "python",
   "nbconvert_exporter": "python",
   "pygments_lexer": "ipython3",
   "version": "3.9.7"
  }
 },
 "nbformat": 4,
 "nbformat_minor": 5
}
